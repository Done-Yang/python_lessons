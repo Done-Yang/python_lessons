{
  "nbformat": 4,
  "nbformat_minor": 0,
  "metadata": {
    "colab": {
      "provenance": [],
      "mount_file_id": "1wXpJS-_7hVyEp7v_Br-sGan6lArdD6NM",
      "authorship_tag": "ABX9TyOP1DjEO3k71le8rqM+yZDl",
      "include_colab_link": true
    },
    "kernelspec": {
      "name": "python3",
      "display_name": "Python 3"
    },
    "language_info": {
      "name": "python"
    }
  },
  "cells": [
    {
      "cell_type": "markdown",
      "metadata": {
        "id": "view-in-github",
        "colab_type": "text"
      },
      "source": [
        "<a href=\"https://colab.research.google.com/github/Done-Yang/python_lessons/blob/main/Untitled0.ipynb\" target=\"_parent\"><img src=\"https://colab.research.google.com/assets/colab-badge.svg\" alt=\"Open In Colab\"/></a>"
      ]
    },
    {
      "cell_type": "code",
      "source": [
        "def sumation(num1, num2):\n",
        "    return num1 + num2\n",
        "\n",
        "number1 = input(\"Number 1\")\n",
        "number2 = input(\"Number 2\")\n",
        "print(\"Sum: \", sumation(number1, number2))\n"
      ],
      "metadata": {
        "colab": {
          "base_uri": "https://localhost:8080/"
        },
        "id": "19whdfGw4vRA",
        "outputId": "a6e2347a-35e4-4583-9055-be254b7b4828"
      },
      "execution_count": 8,
      "outputs": [
        {
          "output_type": "stream",
          "name": "stdout",
          "text": [
            "Number 14\n",
            "Number 25\n",
            "Sum:  45\n"
          ]
        }
      ]
    },
    {
      "cell_type": "code",
      "source": [
        "# Import the required libraries\n",
        "import requests\n",
        "from bs4 import BeautifulSoup\n",
        "\n",
        "# Fetch the HTML content of the URL\n",
        "url = \"https://en.wikipedia.org/wiki/Laos\"\n",
        "response = requests.get(url)\n",
        "\n",
        "# Parse the HTML content using BeautifulSoup\n",
        "soup = BeautifulSoup(response.content, \"html.parser\")\n",
        "\n",
        "# Get the text content of the page\n",
        "text = soup.get_text()\n",
        "\n",
        "# Count the number of letters in the text\n",
        "letter_count = len(text.replace(\" \", \"\"))\n",
        "\n",
        "# Print the result\n",
        "print(f\"Number of letters in the web page: {letter_count}\")"
      ],
      "metadata": {
        "colab": {
          "base_uri": "https://localhost:8080/"
        },
        "id": "65FzTuZF7jnM",
        "outputId": "5543fcf7-b230-4f16-c1de-b14e66002fee"
      },
      "execution_count": 11,
      "outputs": [
        {
          "output_type": "stream",
          "name": "stdout",
          "text": [
            "Number of letters in the web page: 86322\n"
          ]
        }
      ]
    }
  ]
}